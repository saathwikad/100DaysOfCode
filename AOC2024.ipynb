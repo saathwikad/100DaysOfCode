{
  "nbformat": 4,
  "nbformat_minor": 0,
  "metadata": {
    "colab": {
      "provenance": [],
      "authorship_tag": "ABX9TyNh9qEWIdbqXRQpR7zYfUeq",
      "include_colab_link": true
    },
    "kernelspec": {
      "name": "python3",
      "display_name": "Python 3"
    },
    "language_info": {
      "name": "python"
    }
  },
  "cells": [
    {
      "cell_type": "markdown",
      "metadata": {
        "id": "view-in-github",
        "colab_type": "text"
      },
      "source": [
        "<a href=\"https://colab.research.google.com/github/saathwikad/100DaysOfCode/blob/main/AOC2024.ipynb\" target=\"_parent\"><img src=\"https://colab.research.google.com/assets/colab-badge.svg\" alt=\"Open In Colab\"/></a>"
      ]
    },
    {
      "cell_type": "code",
      "source": [
        "arr, arr1 = [], []\n",
        "for i in x:\n",
        "    z, y = i.split()\n",
        "    arr.append(int(z))\n",
        "    arr1.append(int(y))"
      ],
      "metadata": {
        "id": "cXgmRqewwF1M"
      },
      "execution_count": null,
      "outputs": []
    },
    {
      "cell_type": "code",
      "source": [
        "x = split_text(text)"
      ],
      "metadata": {
        "id": "q94SDmwbvnBG"
      },
      "execution_count": null,
      "outputs": []
    },
    {
      "cell_type": "code",
      "source": [
        "arr.sort()"
      ],
      "metadata": {
        "id": "XNHZHdzxwxBN",
        "colab": {
          "base_uri": "https://localhost:8080/",
          "height": 161
        },
        "outputId": "abb3ba3b-a9a8-4fc4-a03a-b8546a669736"
      },
      "execution_count": 1,
      "outputs": [
        {
          "output_type": "error",
          "ename": "NameError",
          "evalue": "name 'arr' is not defined",
          "traceback": [
            "\u001b[0;31m---------------------------------------------------------------------------\u001b[0m",
            "\u001b[0;31mNameError\u001b[0m                                 Traceback (most recent call last)",
            "\u001b[0;32m<ipython-input-1-4765ac5333f7>\u001b[0m in \u001b[0;36m<cell line: 1>\u001b[0;34m()\u001b[0m\n\u001b[0;32m----> 1\u001b[0;31m \u001b[0marr\u001b[0m\u001b[0;34m.\u001b[0m\u001b[0msort\u001b[0m\u001b[0;34m(\u001b[0m\u001b[0;34m)\u001b[0m\u001b[0;34m\u001b[0m\u001b[0;34m\u001b[0m\u001b[0m\n\u001b[0m",
            "\u001b[0;31mNameError\u001b[0m: name 'arr' is not defined"
          ]
        }
      ]
    },
    {
      "cell_type": "code",
      "source": [
        "def find_number(string):\n",
        "    left, right = 0, len(string) - 1\n",
        "    res = ''\n",
        "    for left in string:\n",
        "        if left.isnumeric():\n",
        "            res += left\n",
        "            break\n",
        "    for right in string[::-1]:\n",
        "        if right.isnumeric():\n",
        "            res += right\n",
        "            break\n",
        "    return int(res)\n",
        "def solution(result):\n",
        "    answer = 0\n",
        "    for i in result:\n",
        "        answer += find_number(i)\n",
        "    print(answer)"
      ],
      "metadata": {
        "id": "BZ1ATj9zYKVq"
      },
      "execution_count": null,
      "outputs": []
    },
    {
      "cell_type": "code",
      "source": [
        "arr1.sort()"
      ],
      "metadata": {
        "id": "-SuVqRmQwyr_"
      },
      "execution_count": null,
      "outputs": []
    },
    {
      "cell_type": "code",
      "source": [
        "answer"
      ],
      "metadata": {
        "colab": {
          "base_uri": "https://localhost:8080/"
        },
        "id": "DfIa1coaYY8R",
        "outputId": "cb412c03-0152-40aa-f0db-bf00ca4a28fa"
      },
      "execution_count": null,
      "outputs": [
        {
          "output_type": "execute_result",
          "data": {
            "text/plain": [
              "54450"
            ]
          },
          "metadata": {},
          "execution_count": 5
        }
      ]
    },
    {
      "cell_type": "code",
      "source": [
        "import re\n",
        "\n",
        "def spelled_to_digit(word):\n",
        "    # Map spelled-out numbers to their digit equivalents\n",
        "    mapping = {\n",
        "        \"zero\": \"0\", \"one\": \"1\", \"two\": \"2\", \"three\": \"3\", \"four\": \"4\",\n",
        "        \"five\": \"5\", \"six\": \"6\", \"seven\": \"7\", \"eight\": \"8\", \"nine\": \"9\"\n",
        "    }\n",
        "    return mapping.get(word.lower(), word)  # Return the digit or keep the original word\n",
        "\n",
        "def convert_text_to_list():\n",
        "    lines = result\n",
        "    r = []\n",
        "\n",
        "    for line in lines:\n",
        "        # Use regex to find all numeric digits or spelled-out numbers\n",
        "        parts = re.findall(r'\\d+|zero|one|two|three|four|five|six|seven|eight|nine', line, re.IGNORECASE)\n",
        "        converted_line = ''.join(spelled_to_digit(part) for part in parts)  # Convert spelled-out numbers to digits\n",
        "        r.append(int(converted_line))  # Add the converted string to the result list\n",
        "\n",
        "    return r"
      ],
      "metadata": {
        "id": "Veq-ldh3Yger"
      },
      "execution_count": null,
      "outputs": []
    },
    {
      "cell_type": "code",
      "source": [
        "solution(convert_text_to_list())"
      ],
      "metadata": {
        "colab": {
          "base_uri": "https://localhost:8080/"
        },
        "id": "KJXB-B4YalkD",
        "outputId": "6ced266b-1408-4960-fde5-2521c27355fb"
      },
      "execution_count": null,
      "outputs": [
        {
          "output_type": "stream",
          "name": "stdout",
          "text": [
            "54258\n"
          ]
        }
      ]
    },
    {
      "cell_type": "code",
      "source": [
        "res = 0\n",
        "for i in range(len(arr)):\n",
        "    res += abs(arr[i] - arr1[i])\n",
        "print(res)"
      ],
      "metadata": {
        "id": "Dx-KoVWqatxD",
        "colab": {
          "base_uri": "https://localhost:8080/"
        },
        "outputId": "761f0ce5-ffec-46c2-ee26-388cdce15c85"
      },
      "execution_count": null,
      "outputs": [
        {
          "output_type": "stream",
          "name": "stdout",
          "text": [
            "1941353\n"
          ]
        }
      ]
    },
    {
      "cell_type": "code",
      "source": [
        "res = 0\n",
        "for i in range(len(arr)):\n",
        "    if arr[i] in arr1:\n",
        "        res += arr[i] * arr1.count(arr[i])\n",
        "print(res)"
      ],
      "metadata": {
        "colab": {
          "base_uri": "https://localhost:8080/"
        },
        "id": "uQslBNynw7ja",
        "outputId": "9a936111-2e96-40f5-9ff7-dc79e13ed59f"
      },
      "execution_count": null,
      "outputs": [
        {
          "output_type": "stream",
          "name": "stdout",
          "text": [
            "22539317\n"
          ]
        }
      ]
    },
    {
      "cell_type": "code",
      "source": [],
      "metadata": {
        "id": "mNipg0rdxudH"
      },
      "execution_count": null,
      "outputs": []
    }
  ]
}